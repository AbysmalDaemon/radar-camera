{
 "cells": [
  {
   "cell_type": "code",
   "execution_count": 2,
   "metadata": {},
   "outputs": [
    {
     "name": "stdout",
     "output_type": "stream",
     "text": [
      "Distance values saved to: output.csv\n"
     ]
    }
   ],
   "source": [
    "import csv\n",
    "import math\n",
    "\n",
    "# Specify the input file path\n",
    "input_file = 'radar4/15-28-27.631710.csv'  # Replace with the actual input file path\n",
    "\n",
    "# Specify the output file path\n",
    "output_file = 'output.csv'  # Replace with the desired output file name\n",
    "\n",
    "# Read the CSV file\n",
    "with open(input_file, 'r') as csv_file:\n",
    "    reader = csv.reader(csv_file)\n",
    "    data = list(reader)\n",
    "\n",
    "# Extract x and y data from the first two rows\n",
    "x_values = [float(value) for value in data[0]]\n",
    "y_values = [float(value) for value in data[1]]\n",
    "\n",
    "# Calculate distance for each pair of x and y values\n",
    "distance_values = [math.sqrt(x**2 + y**2) for x, y in zip(x_values, y_values)]\n",
    "\n",
    "# Append the distance values as the third row in the data\n",
    "data.append(distance_values)\n",
    "\n",
    "# Write the updated data to a new CSV file\n",
    "with open(output_file, 'w', newline='') as csv_file:\n",
    "    writer = csv.writer(csv_file)\n",
    "    writer.writerows(data)\n",
    "\n",
    "print(f\"Distance values saved to: {output_file}\")"
   ]
  },
  {
   "attachments": {},
   "cell_type": "markdown",
   "metadata": {},
   "source": [
    "Automated code for finding distance"
   ]
  },
  {
   "cell_type": "code",
   "execution_count": 4,
   "metadata": {},
   "outputs": [
    {
     "name": "stdout",
     "output_type": "stream",
     "text": [
      "Distance values saved to: output\\15-28-27.631710.csv\n",
      "Distance values saved to: output\\15-28-27.712974.csv\n"
     ]
    }
   ],
   "source": [
    "import os\n",
    "import csv\n",
    "import math\n",
    "\n",
    "# Specify the input folder path\n",
    "input_folder = 'radar4'  # Replace with the actual input folder path\n",
    "\n",
    "# Specify the output folder path\n",
    "output_folder = 'output'  # Replace with the desired output folder path\n",
    "\n",
    "# Get the list of CSV files in the input folder\n",
    "csv_files = [file for file in os.listdir(input_folder) if file.endswith('.csv')]\n",
    "\n",
    "# Iterate over each CSV file\n",
    "for file in csv_files:\n",
    "    input_file = os.path.join(input_folder, file)\n",
    "    output_file = os.path.join(output_folder, file)\n",
    "\n",
    "    # Read the CSV file\n",
    "    with open(input_file, 'r') as csv_file:\n",
    "        reader = csv.reader(csv_file)\n",
    "        data = list(reader)\n",
    "\n",
    "    # Extract x and y data from the first two rows\n",
    "    x_values = [float(value) for value in data[0]]\n",
    "    y_values = [float(value) for value in data[1]]\n",
    "\n",
    "    # Calculate distance for each pair of x and y values\n",
    "    distance_values = [math.sqrt(x**2 + y**2) for x, y in zip(x_values, y_values)]\n",
    "\n",
    "    # Append the distance values as the third row in the data\n",
    "    data.append(distance_values)\n",
    "\n",
    "    # Write the updated data to a new CSV file\n",
    "    with open(output_file, 'w', newline='') as csv_file:\n",
    "        writer = csv.writer(csv_file)\n",
    "        writer.writerows(data)\n",
    "\n",
    "    print(f\"Distance values saved to: {output_file}\")"
   ]
  }
 ],
 "metadata": {
  "kernelspec": {
   "display_name": "Python 3",
   "language": "python",
   "name": "python3"
  },
  "language_info": {
   "codemirror_mode": {
    "name": "ipython",
    "version": 3
   },
   "file_extension": ".py",
   "mimetype": "text/x-python",
   "name": "python",
   "nbconvert_exporter": "python",
   "pygments_lexer": "ipython3",
   "version": "3.8.0"
  },
  "orig_nbformat": 4
 },
 "nbformat": 4,
 "nbformat_minor": 2
}
