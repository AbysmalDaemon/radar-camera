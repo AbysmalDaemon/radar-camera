{
 "cells": [
  {
   "cell_type": "code",
   "execution_count": 1,
   "metadata": {},
   "outputs": [
    {
     "name": "stdout",
     "output_type": "stream",
     "text": [
      "Filtered data for sensor 20 has been written to 20_scene1.csv\n"
     ]
    }
   ],
   "source": [
    "import pandas as pd\n",
    "\n",
    "# Read the original CSV file\n",
    "input_csv_filename = 'scene1.csv'\n",
    "output_csv_filename = '20_scene1.csv'\n",
    "\n",
    "# Assuming that the CSV file has a column named '.id' for sensor IDs\n",
    "data = pd.read_csv(input_csv_filename)\n",
    "\n",
    "# Filter rows with sensor ID 20\n",
    "sensor_20_data = data[data['.id'] == 20]\n",
    "\n",
    "# Write the filtered data to a new CSV file\n",
    "sensor_20_data.to_csv(output_csv_filename, index=False)\n",
    "\n",
    "print(f\"Filtered data for sensor 20 has been written to {output_csv_filename}\")"
   ]
  }
 ],
 "metadata": {
  "kernelspec": {
   "display_name": "base",
   "language": "python",
   "name": "python3"
  },
  "language_info": {
   "codemirror_mode": {
    "name": "ipython",
    "version": 3
   },
   "file_extension": ".py",
   "mimetype": "text/x-python",
   "name": "python",
   "nbconvert_exporter": "python",
   "pygments_lexer": "ipython3",
   "version": "3.10.9"
  },
  "orig_nbformat": 4
 },
 "nbformat": 4,
 "nbformat_minor": 2
}
