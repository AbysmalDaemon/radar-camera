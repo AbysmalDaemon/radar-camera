{
 "cells": [
  {
   "attachments": {},
   "cell_type": "markdown",
   "metadata": {},
   "source": [
    "Adding an empty row and some words so pandas reads it as label"
   ]
  },
  {
   "cell_type": "code",
   "execution_count": 46,
   "metadata": {},
   "outputs": [
    {
     "name": "stdout",
     "output_type": "stream",
     "text": [
      "CSV file updated successfully.\n"
     ]
    }
   ],
   "source": [
    "#Adding an empty row and some words so pandas reads it as labels\n",
    "import csv\n",
    "\n",
    "# Specify the path to your input CSV file\n",
    "input_csv = 'radar/20-20-15.139673_896551.csv'\n",
    "\n",
    "# Specify the path to your output CSV file\n",
    "output_csv = 'output1.csv'\n",
    "\n",
    "# Read the existing data from the input CSV file\n",
    "with open(input_csv, 'r') as file:\n",
    "    reader = csv.reader(file)\n",
    "    rows = list(reader)\n",
    "\n",
    "# Insert an empty row at the beginning of the data\n",
    "rows.insert(0, [])\n",
    "\n",
    "# Add 'Unnamed' to the entire empty row\n",
    "rows[0] = ['Unnamed'] * len(rows[1])\n",
    "\n",
    "# Write the updated data to the output CSV file\n",
    "with open(output_csv, 'w', newline='') as file:\n",
    "    writer = csv.writer(file)\n",
    "    writer.writerows(rows)"
   ]
  },
  {
   "attachments": {},
   "cell_type": "markdown",
   "metadata": {},
   "source": [
    "Deleting the first column (labels)"
   ]
  },
  {
   "cell_type": "code",
   "execution_count": 48,
   "metadata": {},
   "outputs": [],
   "source": [
    "\n",
    "#Deleting the first column (labels)\n",
    "import csv\n",
    "\n",
    "# Specify the path to your input CSV file\n",
    "input_csv = 'output1.csv'\n",
    "\n",
    "# Specify the path to your output CSV file\n",
    "output_csv = 'output2.csv'\n",
    "\n",
    "# Read the existing data from the input CSV file\n",
    "with open(input_csv, 'r') as file:\n",
    "    reader = csv.reader(file)\n",
    "    rows = list(reader)\n",
    "\n",
    "# Remove the first column from each row\n",
    "for row in rows:\n",
    "    del row[0]\n",
    "\n",
    "# Write the updated data to the output CSV file\n",
    "with open(output_csv, 'w', newline='') as file:\n",
    "    writer = csv.writer(file)\n",
    "    writer.writerows(rows)"
   ]
  },
  {
   "attachments": {},
   "cell_type": "markdown",
   "metadata": {},
   "source": [
    "Adding rows for x, y and z values"
   ]
  },
  {
   "cell_type": "code",
   "execution_count": 17,
   "metadata": {},
   "outputs": [],
   "source": [
    "#Adding rows for x, y and z values\n",
    "import numpy as np\n",
    "import pandas as pd\n",
    "\n",
    "df = pd.read_csv('output2.csv')\n",
    "# Clean and convert the values in the 'Range' and 'Azimuth' rows to numeric types\n",
    "range_vals = pd.to_numeric(df.iloc[0], errors='coerce')\n",
    "azimuth_vals = pd.to_numeric(df.iloc[1], errors='coerce')\n",
    "\n",
    "# Calculate the value of 'x' for each corresponding radar value\n",
    "x_values = range_vals * np.cos(np.deg2rad(azimuth_vals))\n",
    "y_values = range_vals * np.sin(np.deg2rad(azimuth_vals))\n",
    "z_values = np.zeros(len(range_vals))\n",
    "\n",
    "# Insert the calculated 'x' values at the 8th row\n",
    "df = pd.concat([df.iloc[:0], pd.DataFrame([x_values], columns=df.columns), df.iloc[0:]], ignore_index=True)\n",
    "df = pd.concat([df.iloc[:1], pd.DataFrame([y_values], columns=df.columns), df.iloc[1:]], ignore_index=True)\n",
    "df = pd.concat([df.iloc[:2], pd.DataFrame([z_values], columns=df.columns), df.iloc[2:]], ignore_index=True)\n",
    "# df = pd.concat([df.iloc[:0], pd.DataFrame([x_values], columns=df.columns), df.iloc[0:]], ignore_index=True)\n",
    "df.to_csv(\"final1.csv\", index=False)"
   ]
  },
  {
   "attachments": {},
   "cell_type": "markdown",
   "metadata": {},
   "source": [
    "Automating this process"
   ]
  },
  {
   "cell_type": "code",
   "execution_count": 16,
   "metadata": {},
   "outputs": [],
   "source": [
    "import os\n",
    "import csv\n",
    "import numpy as np\n",
    "import pandas as pd\n",
    "\n",
    "# Specify the input folder containing CSV files\n",
    "input_folder = 'iith-to-ptrpally'\n",
    "\n",
    "# Specify the output folder to save the modified CSV files\n",
    "output_folder = 'iith-to-ptrpally-xyz'\n",
    "\n",
    "# Create the output folder if it doesn't exist\n",
    "os.makedirs(output_folder, exist_ok=True)\n",
    "\n",
    "# Process each file in the input folder\n",
    "for filename in os.listdir(input_folder):\n",
    "    if filename.endswith('.csv'):\n",
    "        # Construct the paths for input and output files\n",
    "        input_csv = os.path.join(input_folder, filename)\n",
    "        output_csv = os.path.join(output_folder, filename)\n",
    "        \n",
    "        # Step 1: Adding an empty row and 'Unnamed' labels\n",
    "        with open(input_csv, 'r') as file:\n",
    "            reader = csv.reader(file)\n",
    "            rows = list(reader)\n",
    "        \n",
    "        rows.insert(0, [])\n",
    "        rows[0] = ['Unnamed'] * len(rows[1])\n",
    "        \n",
    "        with open(output_csv, 'w', newline='') as file:\n",
    "            writer = csv.writer(file)\n",
    "            writer.writerows(rows)\n",
    "        \n",
    "        # Step 2: Deleting the first column (labels)\n",
    "        with open(output_csv, 'r') as file:\n",
    "            reader = csv.reader(file)\n",
    "            rows = list(reader)\n",
    "        \n",
    "        for row in rows:\n",
    "            del row[0]\n",
    "        \n",
    "        with open(output_csv, 'w', newline='') as file:\n",
    "            writer = csv.writer(file)\n",
    "            writer.writerows(rows)\n",
    "        \n",
    "        # Step 3: Adding rows for x, y, and z values\n",
    "        df = pd.read_csv(output_csv)\n",
    "        range_vals = pd.to_numeric(df.iloc[0], errors='coerce')\n",
    "        azimuth_vals = pd.to_numeric(df.iloc[1], errors='coerce')\n",
    "        \n",
    "        x_values = range_vals * np.cos(azimuth_vals)\n",
    "        y_values = range_vals * np.sin(azimuth_vals)\n",
    "        z_values = np.zeros(len(range_vals))\n",
    "        \n",
    "        df = pd.concat([df.iloc[:0], pd.DataFrame([x_values], columns=df.columns), df.iloc[0:]], ignore_index=True)\n",
    "        df = pd.concat([df.iloc[:1], pd.DataFrame([y_values], columns=df.columns), df.iloc[1:]], ignore_index=True)\n",
    "        df = pd.concat([df.iloc[:2], pd.DataFrame([z_values], columns=df.columns), df.iloc[2:]], ignore_index=True)\n",
    "        \n",
    "        df.to_csv(output_csv, index=False)"
   ]
  }
 ],
 "metadata": {
  "kernelspec": {
   "display_name": "Python 3",
   "language": "python",
   "name": "python3"
  },
  "language_info": {
   "codemirror_mode": {
    "name": "ipython",
    "version": 3
   },
   "file_extension": ".py",
   "mimetype": "text/x-python",
   "name": "python",
   "nbconvert_exporter": "python",
   "pygments_lexer": "ipython3",
   "version": "3.8.0"
  },
  "orig_nbformat": 4
 },
 "nbformat": 4,
 "nbformat_minor": 2
}
