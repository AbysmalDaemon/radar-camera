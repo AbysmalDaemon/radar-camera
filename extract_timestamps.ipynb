{
 "cells": [
  {
   "attachments": {},
   "cell_type": "markdown",
   "metadata": {},
   "source": [
    "EXTRACT CAMERA TIMESTAMPS FROM JPG FOLDER"
   ]
  },
  {
   "cell_type": "code",
   "execution_count": 30,
   "metadata": {},
   "outputs": [
    {
     "data": {
      "text/html": [
       "<div>\n",
       "<style scoped>\n",
       "    .dataframe tbody tr th:only-of-type {\n",
       "        vertical-align: middle;\n",
       "    }\n",
       "\n",
       "    .dataframe tbody tr th {\n",
       "        vertical-align: top;\n",
       "    }\n",
       "\n",
       "    .dataframe thead th {\n",
       "        text-align: right;\n",
       "    }\n",
       "</style>\n",
       "<table border=\"1\" class=\"dataframe\">\n",
       "  <thead>\n",
       "    <tr style=\"text-align: right;\">\n",
       "      <th></th>\n",
       "      <th>camera_timestamp</th>\n",
       "    </tr>\n",
       "  </thead>\n",
       "  <tbody>\n",
       "    <tr>\n",
       "      <th>0</th>\n",
       "      <td>frame_2023-06-16_17-29-49-222043.jpg</td>\n",
       "    </tr>\n",
       "    <tr>\n",
       "      <th>1</th>\n",
       "      <td>frame_2023-06-16_17-29-49-699432.jpg</td>\n",
       "    </tr>\n",
       "    <tr>\n",
       "      <th>2</th>\n",
       "      <td>frame_2023-06-16_17-29-50-688949.jpg</td>\n",
       "    </tr>\n",
       "    <tr>\n",
       "      <th>3</th>\n",
       "      <td>frame_2023-06-16_17-29-51-179529.jpg</td>\n",
       "    </tr>\n",
       "    <tr>\n",
       "      <th>4</th>\n",
       "      <td>frame_2023-06-16_17-29-51-301090.jpg</td>\n",
       "    </tr>\n",
       "    <tr>\n",
       "      <th>...</th>\n",
       "      <td>...</td>\n",
       "    </tr>\n",
       "    <tr>\n",
       "      <th>2092</th>\n",
       "      <td>frame_2023-06-16_17-33-53-753119.jpg</td>\n",
       "    </tr>\n",
       "    <tr>\n",
       "      <th>2093</th>\n",
       "      <td>frame_2023-06-16_17-31-24-590837.jpg</td>\n",
       "    </tr>\n",
       "    <tr>\n",
       "      <th>2094</th>\n",
       "      <td>frame_2023-06-16_17-32-19-262746.jpg</td>\n",
       "    </tr>\n",
       "    <tr>\n",
       "      <th>2095</th>\n",
       "      <td>frame_2023-06-16_17-32-26-299075.jpg</td>\n",
       "    </tr>\n",
       "    <tr>\n",
       "      <th>2096</th>\n",
       "      <td>frame_2023-06-16_17-33-22-834823.jpg</td>\n",
       "    </tr>\n",
       "  </tbody>\n",
       "</table>\n",
       "<p>2097 rows × 1 columns</p>\n",
       "</div>"
      ],
      "text/plain": [
       "                          camera_timestamp\n",
       "0     frame_2023-06-16_17-29-49-222043.jpg\n",
       "1     frame_2023-06-16_17-29-49-699432.jpg\n",
       "2     frame_2023-06-16_17-29-50-688949.jpg\n",
       "3     frame_2023-06-16_17-29-51-179529.jpg\n",
       "4     frame_2023-06-16_17-29-51-301090.jpg\n",
       "...                                    ...\n",
       "2092  frame_2023-06-16_17-33-53-753119.jpg\n",
       "2093  frame_2023-06-16_17-31-24-590837.jpg\n",
       "2094  frame_2023-06-16_17-32-19-262746.jpg\n",
       "2095  frame_2023-06-16_17-32-26-299075.jpg\n",
       "2096  frame_2023-06-16_17-33-22-834823.jpg\n",
       "\n",
       "[2097 rows x 1 columns]"
      ]
     },
     "execution_count": 30,
     "metadata": {},
     "output_type": "execute_result"
    }
   ],
   "source": [
    "import os\n",
    "import pandas as pd\n",
    "\n",
    "# Specify the path to the folder containing the images\n",
    "folder_path = 'new_webcam'\n",
    "\n",
    "# Get the list of files in the folder\n",
    "file_list = os.listdir(folder_path)\n",
    "\n",
    "# Filter only the JPEG/JPG files\n",
    "image_files = [file for file in file_list if file.lower().endswith(('.jpg', '.jpeg'))]\n",
    "\n",
    "# Create a dataframe to store the image names\n",
    "df = pd.DataFrame({'camera_timestamp': image_files})\n",
    "\n",
    "df"
   ]
  },
  {
   "cell_type": "code",
   "execution_count": 31,
   "metadata": {},
   "outputs": [
    {
     "name": "stdout",
     "output_type": "stream",
     "text": [
      "     camera_timestamp\n",
      "0     17:29:49.222043\n",
      "1     17:29:49.699432\n",
      "2     17:29:50.688949\n",
      "3     17:29:51.179529\n",
      "4     17:29:51.301090\n",
      "...               ...\n",
      "2092  17:33:53.753119\n",
      "2093  17:31:24.590837\n",
      "2094  17:32:19.262746\n",
      "2095  17:32:26.299075\n",
      "2096  17:33:22.834823\n",
      "\n",
      "[2097 rows x 1 columns]\n"
     ]
    }
   ],
   "source": [
    "# Remove specific words from the image names\n",
    "df['camera_timestamp'] = df['camera_timestamp'].str.replace('frame_', '').str.replace('2023-06-16_', '').str.replace('-', ':').str.replace('.jpg', '')\n",
    "\n",
    "# # Replace the last ':' with '.'\n",
    "df['camera_timestamp'] = df['camera_timestamp'].str.rsplit(':', n=1).str.join('.')\n",
    "\n",
    "# Print the dataframe\n",
    "print(df)"
   ]
  },
  {
   "cell_type": "code",
   "execution_count": 32,
   "metadata": {},
   "outputs": [],
   "source": [
    "df.to_csv('only_camera.csv', index=False)"
   ]
  },
  {
   "attachments": {},
   "cell_type": "markdown",
   "metadata": {},
   "source": [
    "----"
   ]
  },
  {
   "attachments": {},
   "cell_type": "markdown",
   "metadata": {},
   "source": [
    "EXTRACT RADAR TIMESTAMPS FROM RADAR CSV"
   ]
  },
  {
   "cell_type": "code",
   "execution_count": 35,
   "metadata": {},
   "outputs": [
    {
     "name": "stdout",
     "output_type": "stream",
     "text": [
      "                            time\n",
      "0     2023/06/16/17:29:41.963403\n",
      "1     2023/06/16/17:29:42.002841\n",
      "2     2023/06/16/17:29:42.044190\n",
      "3     2023/06/16/17:29:42.072362\n",
      "4     2023/06/16/17:29:42.123424\n",
      "...                          ...\n",
      "7001  2023/06/16/17:34:08.472773\n",
      "7002  2023/06/16/17:34:08.513570\n",
      "7003  2023/06/16/17:34:08.542282\n",
      "7004  2023/06/16/17:34:08.583451\n",
      "7005  2023/06/16/17:34:08.622737\n",
      "\n",
      "[7006 rows x 1 columns]\n"
     ]
    }
   ],
   "source": [
    "import pandas as pd\n",
    "\n",
    "# Read the CSV file and keep only the 'time' column\n",
    "radar_df = pd.read_csv('2023-06-16-17-29-41-radar_img.csv', usecols=['time'])\n",
    "\n",
    "# Print the updated DataFrame\n",
    "print(radar_df)"
   ]
  },
  {
   "cell_type": "code",
   "execution_count": 38,
   "metadata": {},
   "outputs": [],
   "source": [
    "radar_df['time'] = radar_df['time'].str.replace('2023/06/16/', '')\n",
    "radar_df.to_csv('only_radar.csv', index=False)"
   ]
  }
 ],
 "metadata": {
  "kernelspec": {
   "display_name": "Python 3",
   "language": "python",
   "name": "python3"
  },
  "language_info": {
   "codemirror_mode": {
    "name": "ipython",
    "version": 3
   },
   "file_extension": ".py",
   "mimetype": "text/x-python",
   "name": "python",
   "nbconvert_exporter": "python",
   "pygments_lexer": "ipython3",
   "version": "3.8.0"
  },
  "orig_nbformat": 4
 },
 "nbformat": 4,
 "nbformat_minor": 2
}
